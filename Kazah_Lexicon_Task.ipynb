{
 "cells": [
  {
   "cell_type": "markdown",
   "metadata": {},
   "source": [
    "# STEP 1 - Loading JSON data, creating data class in Pydantic, data cleaning: removing, stopwords, punctuation."
   ]
  },
  {
   "cell_type": "code",
   "execution_count": null,
   "metadata": {},
   "outputs": [],
   "source": [
    "import json\n",
    "import nltk\n",
    "from nltk.corpus import stopwords as nltk_stopwords\n",
    "from nltk.tokenize import word_tokenize\n",
    "from pydantic import BaseModel\n",
    "from typing import Optional\n",
    "import string\n",
    "import pandas as pd\n",
    "\n",
    "# Downloading the Kazakh stopwords from NLTK\n",
    "nltk.download('stopwords')\n"
   ]
  },
  {
   "cell_type": "code",
   "execution_count": null,
   "metadata": {},
   "outputs": [],
   "source": [
    "# Defining Pydantic data class for token information\n",
    "class TokenData(BaseModel):\n",
    "    lemma: str\n",
    "    pos: str\n",
    "    morph_features: Optional[str]  # Make it optional\n",
    "    wordform: str\n"
   ]
  },
  {
   "cell_type": "code",
   "execution_count": null,
   "metadata": {},
   "outputs": [],
   "source": [
    "# Loading the JSON data\n",
    "with open(r'C:\\Users\\monik\\OneDrive\\Desktop\\job\\sample_parsed_sentences.json', 'r', encoding='utf-8') as file:\n",
    "    data = json.load(file)\n"
   ]
  },
  {
   "cell_type": "code",
   "execution_count": null,
   "metadata": {},
   "outputs": [],
   "source": [
    "# Creating a list to hold token data instances\n",
    "token_instances = []\n",
    "\n",
    "# Defining the list of stopwords and punctuation\n",
    "stopwords_kz = set(nltk_stopwords.words('kazakh'))\n",
    "punctuation = set(string.punctuation)\n"
   ]
  },
  {
   "cell_type": "code",
   "execution_count": null,
   "metadata": {},
   "outputs": [],
   "source": [
    "# Initializing lists to store TokenData instances\n",
    "token_instances = []\n",
    "\n",
    "# Iterating through sentences and tokens to create instances\n",
    "for sentence in data['sentences']:\n",
    "    for token in sentence['tokens']:\n",
    "        # Check if the token is not a Kazakh stopword and not a punctuation\n",
    "        if token['lemma'].lower() not in stopwords_kz and token['text'] not in punctuation:\n",
    "            token_instance = TokenData(\n",
    "                lemma=token['lemma'],\n",
    "                pos=token.get('pos', \"\"),\n",
    "                morph_features=token.get('feats', \"\"),\n",
    "                wordform=token['text']\n",
    "            )\n",
    "            token_instances.append(token_instance)\n",
    "            \n",
    "# Printing the generated token instances\n",
    "for token_instance in token_instances:\n",
    "    print(token_instance.json())            \n"
   ]
  },
  {
   "cell_type": "code",
   "execution_count": null,
   "metadata": {},
   "outputs": [],
   "source": [
    "# Converting the list of token instances to a DataFrame\n",
    "df = pd.DataFrame([token_instance.dict() for token_instance in token_instances])\n"
   ]
  },
  {
   "cell_type": "markdown",
   "metadata": {},
   "source": [
    "# Step 2 - Data aggregation and creating JSON file output."
   ]
  },
  {
   "cell_type": "code",
   "execution_count": null,
   "metadata": {},
   "outputs": [],
   "source": [
    "# Grouping by lemma and calculate frequency counts\n",
    "lemma_freq = df.groupby('lemma').size().reset_index(name='total_frequency')\n",
    "\n",
    "# Grouping by lemma and wordform to calculate wordform frequency counts\n",
    "wordform_freq = df.groupby(['lemma', 'wordform']).size().reset_index(name='wordform_frequency')\n"
   ]
  },
  {
   "cell_type": "code",
   "execution_count": null,
   "metadata": {},
   "outputs": [],
   "source": [
    "# Merging lemma_freq and wordform_freq to create the output DataFrame\n",
    "output_df = lemma_freq.merge(wordform_freq, on='lemma')\n"
   ]
  },
  {
   "cell_type": "code",
   "execution_count": null,
   "metadata": {},
   "outputs": [],
   "source": [
    "# Converting the output DataFrame to a JSON structure\n",
    "output_json = []\n",
    "for lemma, group in output_df.groupby('lemma'):\n",
    "    wordform_info = []\n",
    "    for idx, row in group.iterrows():\n",
    "        wordform_info.append({\n",
    "            \"wordform\": row['wordform'],\n",
    "            \"wordform_frequency\": int(row['wordform_frequency']),  # Convert to integer\n",
    "        })\n",
    "    lemma_info = {\n",
    "        \"lemma\": lemma,\n",
    "        \"wordforms\": wordform_info,\n",
    "        \"total_frequency\": int(group['total_frequency'].iloc[0])  # Convert to integer\n",
    "    }\n",
    "    output_json.append(lemma_info)\n"
   ]
  },
  {
   "cell_type": "code",
   "execution_count": null,
   "metadata": {},
   "outputs": [],
   "source": [
    "# Printing the JSON structure to the notebook\n",
    "print(json.dumps(output_json, ensure_ascii=False, indent=4))\n"
   ]
  },
  {
   "cell_type": "code",
   "execution_count": null,
   "metadata": {},
   "outputs": [],
   "source": [
    "# Writing the JSON to a file\n",
    "with open('output.json', 'w', encoding='utf-8') as outfile:\n",
    "    json.dump(output_json, outfile, ensure_ascii=False, indent=4)\n"
   ]
  }
 ],
 "metadata": {
  "kernelspec": {
   "display_name": "Python 3",
   "language": "python",
   "name": "python3"
  },
  "language_info": {
   "codemirror_mode": {
    "name": "ipython",
    "version": 3
   },
   "file_extension": ".py",
   "mimetype": "text/x-python",
   "name": "python",
   "nbconvert_exporter": "python",
   "pygments_lexer": "ipython3",
   "version": "3.9.15"
  },
  "orig_nbformat": 4
 },
 "nbformat": 4,
 "nbformat_minor": 2
}
